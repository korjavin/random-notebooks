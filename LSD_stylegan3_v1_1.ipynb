{
  "nbformat": 4,
  "nbformat_minor": 0,
  "metadata": {
    "colab": {
      "name": " LSD_stylegan3_v1.1.ipynb",
      "provenance": [],
      "collapsed_sections": [],
      "include_colab_link": true
    },
    "kernelspec": {
      "name": "python3",
      "display_name": "Python 3"
    },
    "language_info": {
      "name": "python"
    },
    "accelerator": "GPU"
  },
  "cells": [
    {
      "cell_type": "markdown",
      "metadata": {
        "id": "view-in-github",
        "colab_type": "text"
      },
      "source": [
        "<a href=\"https://colab.research.google.com/github/korjavin/random-notebooks/blob/master/LSD_stylegan3_v1_1.ipynb\" target=\"_parent\"><img src=\"https://colab.research.google.com/assets/colab-badge.svg\" alt=\"Open In Colab\"/></a>"
      ]
    },
    {
      "cell_type": "markdown",
      "source": [
        "# В этом колабе ты можешь сгенерировать музыкальное видео с помощью алгоритмов **StyleGAN3** и **Lucid Sonic Dreams**\n",
        "---\n",
        "### чтобы все заработало, надо по очереди выполнить все ячейки нажав на кнопки **play** слева от них. только помни: пока выполняется одна ячейка, другая запуститься не может.\n",
        "если ты в колабе первый раз, стоит убедиться что вычисления будут происходить на видеокарте. заходи в `Runtime >> Change runtime type >> GPU` (если все на русском то `Среда выполнения >> Сменить среду выполнения >> GPU`)\n",
        "\n",
        "### если по какой то причине ты видишь код, попробуй справа над ячейкой нажать на кнопку с тремя точками и выбрать `hide code` или `спрятать код`\n",
        "\n",
        "\n",
        "[StyleGAN3](https://github.com/NVlabs/stylegan3),\n",
        "[оригинальный Lucid Sonic Dreams](https://github.com/mikaelalafriz/lucid-sonic-dreams),\n",
        "[Lucid Sonic Dreams - Pytorch](https://github.com/NotNANtoN/lucid-sonic-dreams)\n",
        "\n",
        "и не забудь подписаться на канал [тоже моушн](https://t.me/too_motion)"
      ],
      "metadata": {
        "id": "Cymd5gBQ5PUx"
      }
    },
    {
      "cell_type": "code",
      "source": [
        "#@title установка Lucid Sonid Dreams и StyleGAN3\n",
        "from IPython.display import clear_output\n",
        "%cd /content/\n",
        "!git clone https://github.com/dvschultz/lucid-sonic-dreams\n",
        "!pip install pygit2 mega.py ninja\n",
        "%cd /content/lucid-sonic-dreams\n",
        "!git clone https://github.com/NVlabs/stylegan3.git\n",
        "!mv /content/lucid-sonic-dreams/stylegan3 /content/lucid-sonic-dreams/stylegan2\n",
        "clear_output()"
      ],
      "metadata": {
        "id": "AcDbF9f8-ZDB"
      },
      "execution_count": 2,
      "outputs": []
    },
    {
      "cell_type": "code",
      "source": [
        "#@title скачивание предобученных моделей. если в названии есть `r` или `t`, это модели StyleGAN3 и картинка в кадре будет меняться по разному, либо слегка поворачиваться либо заметно перемещаться\n",
        "from IPython.display import clear_output\n",
        "\n",
        "model_to_download = \"animals-r\" #@param [\"snowflakes\", \"wikiart-t\", \"animals-t\", \"animals-r\", \"faces-t\", \"faces-r\",\"artistic_faces-t\",\"artistic_faces-r\",\"cats\",\"dogs\",\"wild\",\"minerals\",\"acid_fluid\",\"earth_view\"]\n",
        "if model_to_download == \"wikiart-t\":\n",
        "  !gdown --id 18MOpwTMJsl_Z17q-wQVnaRLCUFZYSNkj # wikiart\n",
        "elif model_to_download == \"snowflakes\":\n",
        "  !gdown --id 12VK87A3AXsVksdwcsJBUOETyUyCdP0nX # snowflakes\n",
        "elif model_to_download == \"animals-t\":\n",
        "  !wget https://api.ngc.nvidia.com/v2/models/nvidia/research/stylegan3/versions/1/files/stylegan3-t-afhqv2-512x512.pkl # animals-t\n",
        "elif model_to_download == \"animals-r\":\n",
        "  !wget https://api.ngc.nvidia.com/v2/models/nvidia/research/stylegan3/versions/1/files/stylegan3-r-afhqv2-512x512.pkl # animals-r\n",
        "elif model_to_download == \"faces-t\":\n",
        "  !wget https://api.ngc.nvidia.com/v2/models/nvidia/research/stylegan3/versions/1/files/stylegan3-t-ffhq-1024x1024.pkl # faces-t\n",
        "elif model_to_download == \"faces-r\":\n",
        "  !wget https://api.ngc.nvidia.com/v2/models/nvidia/research/stylegan3/versions/1/files/stylegan3-r-ffhq-1024x1024.pkl # faces-r\n",
        "elif model_to_download == \"artistic_faces-t\":\n",
        "  !wget https://api.ngc.nvidia.com/v2/models/nvidia/research/stylegan3/versions/1/files/stylegan3-t-metfaces-1024x1024.pkl # artistic faces-t\n",
        "elif model_to_download == \"artistic_faces-r\":\n",
        "  !wget https://api.ngc.nvidia.com/v2/models/nvidia/research/stylegan3/versions/1/files/stylegan3-r-metfaces-1024x1024.pkl # artistic faces-r\n",
        "#elif model_to_download == \"cosplay_faces\":\n",
        "#  !wget https://l4rz.net/cosplayface-snapshot-004000-18160-FID367.pkl # cosplay_faces\n",
        "elif model_to_download == \"cats\":\n",
        "  !wget https://api.ngc.nvidia.com/v2/models/nvidia/research/stylegan2/versions/1/files/stylegan2-afhqcat-512x512.pkl # cats\n",
        "elif model_to_download == \"dogs\":\n",
        "  !wget https://api.ngc.nvidia.com/v2/models/nvidia/research/stylegan2/versions/1/files/stylegan2-afhqdog-512x512.pkl # dogs\n",
        "elif model_to_download == \"wild\":\n",
        "  !wget https://api.ngc.nvidia.com/v2/models/nvidia/research/stylegan2/versions/1/files/stylegan2-afhqwild-512x512.pkl # wild\n",
        "elif model_to_download == \"minerals\":\n",
        "  !gdown --id 1YKkozuo2Ik_SGMwh-mFH0I9ZzCN2_gTn # minerals\n",
        "elif model_to_download == \"acid_fluid\":\n",
        "  !gdown --id 10IPazsui4eBPAiLi1p8iMSqL9h0hcqH0 # acid fluid\n",
        "elif model_to_download == \"earth_view\":\n",
        "  !gdown --id 15ypXiZatt2zYvA805vKoMbjH-iU-2IFD # earth view\n",
        "\n",
        "clear_output()"
      ],
      "metadata": {
        "id": "cbSmNRCQUTrO"
      },
      "execution_count": null,
      "outputs": []
    },
    {
      "cell_type": "code",
      "source": [
        "!cp -r /content/drive/MyDrive/projected_gan/pg_modules ./\n",
        "!pwd\n",
        "!pip install timm"
      ],
      "metadata": {
        "colab": {
          "base_uri": "https://localhost:8080/"
        },
        "id": "U-mG1XoHQSCt",
        "outputId": "93a87f2c-19ed-44b5-a970-2f27bbfdb4fe"
      },
      "execution_count": 5,
      "outputs": [
        {
          "output_type": "stream",
          "name": "stdout",
          "text": [
            "/content/lucid-sonic-dreams\n",
            "Collecting timm\n",
            "  Downloading timm-0.5.4-py3-none-any.whl (431 kB)\n",
            "\u001b[K     |████████████████████████████████| 431 kB 5.1 MB/s \n",
            "\u001b[?25hRequirement already satisfied: torchvision in /usr/local/lib/python3.7/dist-packages (from timm) (0.11.1+cu111)\n",
            "Requirement already satisfied: torch>=1.4 in /usr/local/lib/python3.7/dist-packages (from timm) (1.10.0+cu111)\n",
            "Requirement already satisfied: typing-extensions in /usr/local/lib/python3.7/dist-packages (from torch>=1.4->timm) (3.10.0.2)\n",
            "Requirement already satisfied: numpy in /usr/local/lib/python3.7/dist-packages (from torchvision->timm) (1.19.5)\n",
            "Requirement already satisfied: pillow!=8.3.0,>=5.3.0 in /usr/local/lib/python3.7/dist-packages (from torchvision->timm) (7.1.2)\n",
            "Installing collected packages: timm\n",
            "Successfully installed timm-0.5.4\n"
          ]
        }
      ]
    },
    {
      "cell_type": "code",
      "source": [
        "from pg_modules.discriminator import ProjectedDiscriminator\n",
        "D = ProjectedDiscriminator()"
      ],
      "metadata": {
        "colab": {
          "base_uri": "https://localhost:8080/"
        },
        "id": "1lJJ_wtlQa55",
        "outputId": "12149378-d400-4888-8d11-42dd0921041f"
      },
      "execution_count": 10,
      "outputs": [
        {
          "output_type": "stream",
          "name": "stderr",
          "text": [
            "Downloading: \"https://github.com/rwightman/pytorch-image-models/releases/download/v0.1-weights/tf_efficientnet_lite0-0aa007d2.pth\" to /root/.cache/torch/hub/checkpoints/tf_efficientnet_lite0-0aa007d2.pth\n"
          ]
        }
      ]
    },
    {
      "cell_type": "code",
      "source": [
        "D.feature_network.requires_grad_(False)"
      ],
      "metadata": {
        "colab": {
          "base_uri": "https://localhost:8080/"
        },
        "id": "RDkXbENYQmK3",
        "outputId": "ee0075e7-baa4-46c8-d374-528d00250e99"
      },
      "execution_count": 13,
      "outputs": [
        {
          "output_type": "execute_result",
          "data": {
            "text/plain": [
              "F_RandomProj(\n",
              "  (pretrained): Module(\n",
              "    (layer0): Sequential(\n",
              "      (0): Conv2dSame(3, 32, kernel_size=(3, 3), stride=(2, 2), bias=False)\n",
              "      (1): BatchNorm2d(32, eps=0.001, momentum=0.1, affine=True, track_running_stats=True)\n",
              "      (2): ReLU6(inplace=True)\n",
              "      (3): Sequential(\n",
              "        (0): DepthwiseSeparableConv(\n",
              "          (conv_dw): Conv2d(32, 32, kernel_size=(3, 3), stride=(1, 1), padding=(1, 1), groups=32, bias=False)\n",
              "          (bn1): BatchNorm2d(32, eps=0.001, momentum=0.1, affine=True, track_running_stats=True)\n",
              "          (act1): ReLU6(inplace=True)\n",
              "          (se): Identity()\n",
              "          (conv_pw): Conv2d(32, 16, kernel_size=(1, 1), stride=(1, 1), bias=False)\n",
              "          (bn2): BatchNorm2d(16, eps=0.001, momentum=0.1, affine=True, track_running_stats=True)\n",
              "          (act2): Identity()\n",
              "        )\n",
              "      )\n",
              "      (4): Sequential(\n",
              "        (0): InvertedResidual(\n",
              "          (conv_pw): Conv2d(16, 96, kernel_size=(1, 1), stride=(1, 1), bias=False)\n",
              "          (bn1): BatchNorm2d(96, eps=0.001, momentum=0.1, affine=True, track_running_stats=True)\n",
              "          (act1): ReLU6(inplace=True)\n",
              "          (conv_dw): Conv2dSame(96, 96, kernel_size=(3, 3), stride=(2, 2), groups=96, bias=False)\n",
              "          (bn2): BatchNorm2d(96, eps=0.001, momentum=0.1, affine=True, track_running_stats=True)\n",
              "          (act2): ReLU6(inplace=True)\n",
              "          (se): Identity()\n",
              "          (conv_pwl): Conv2d(96, 24, kernel_size=(1, 1), stride=(1, 1), bias=False)\n",
              "          (bn3): BatchNorm2d(24, eps=0.001, momentum=0.1, affine=True, track_running_stats=True)\n",
              "        )\n",
              "        (1): InvertedResidual(\n",
              "          (conv_pw): Conv2d(24, 144, kernel_size=(1, 1), stride=(1, 1), bias=False)\n",
              "          (bn1): BatchNorm2d(144, eps=0.001, momentum=0.1, affine=True, track_running_stats=True)\n",
              "          (act1): ReLU6(inplace=True)\n",
              "          (conv_dw): Conv2d(144, 144, kernel_size=(3, 3), stride=(1, 1), padding=(1, 1), groups=144, bias=False)\n",
              "          (bn2): BatchNorm2d(144, eps=0.001, momentum=0.1, affine=True, track_running_stats=True)\n",
              "          (act2): ReLU6(inplace=True)\n",
              "          (se): Identity()\n",
              "          (conv_pwl): Conv2d(144, 24, kernel_size=(1, 1), stride=(1, 1), bias=False)\n",
              "          (bn3): BatchNorm2d(24, eps=0.001, momentum=0.1, affine=True, track_running_stats=True)\n",
              "        )\n",
              "      )\n",
              "    )\n",
              "    (layer1): Sequential(\n",
              "      (0): Sequential(\n",
              "        (0): InvertedResidual(\n",
              "          (conv_pw): Conv2d(24, 144, kernel_size=(1, 1), stride=(1, 1), bias=False)\n",
              "          (bn1): BatchNorm2d(144, eps=0.001, momentum=0.1, affine=True, track_running_stats=True)\n",
              "          (act1): ReLU6(inplace=True)\n",
              "          (conv_dw): Conv2dSame(144, 144, kernel_size=(5, 5), stride=(2, 2), groups=144, bias=False)\n",
              "          (bn2): BatchNorm2d(144, eps=0.001, momentum=0.1, affine=True, track_running_stats=True)\n",
              "          (act2): ReLU6(inplace=True)\n",
              "          (se): Identity()\n",
              "          (conv_pwl): Conv2d(144, 40, kernel_size=(1, 1), stride=(1, 1), bias=False)\n",
              "          (bn3): BatchNorm2d(40, eps=0.001, momentum=0.1, affine=True, track_running_stats=True)\n",
              "        )\n",
              "        (1): InvertedResidual(\n",
              "          (conv_pw): Conv2d(40, 240, kernel_size=(1, 1), stride=(1, 1), bias=False)\n",
              "          (bn1): BatchNorm2d(240, eps=0.001, momentum=0.1, affine=True, track_running_stats=True)\n",
              "          (act1): ReLU6(inplace=True)\n",
              "          (conv_dw): Conv2d(240, 240, kernel_size=(5, 5), stride=(1, 1), padding=(2, 2), groups=240, bias=False)\n",
              "          (bn2): BatchNorm2d(240, eps=0.001, momentum=0.1, affine=True, track_running_stats=True)\n",
              "          (act2): ReLU6(inplace=True)\n",
              "          (se): Identity()\n",
              "          (conv_pwl): Conv2d(240, 40, kernel_size=(1, 1), stride=(1, 1), bias=False)\n",
              "          (bn3): BatchNorm2d(40, eps=0.001, momentum=0.1, affine=True, track_running_stats=True)\n",
              "        )\n",
              "      )\n",
              "    )\n",
              "    (layer2): Sequential(\n",
              "      (0): Sequential(\n",
              "        (0): InvertedResidual(\n",
              "          (conv_pw): Conv2d(40, 240, kernel_size=(1, 1), stride=(1, 1), bias=False)\n",
              "          (bn1): BatchNorm2d(240, eps=0.001, momentum=0.1, affine=True, track_running_stats=True)\n",
              "          (act1): ReLU6(inplace=True)\n",
              "          (conv_dw): Conv2dSame(240, 240, kernel_size=(3, 3), stride=(2, 2), groups=240, bias=False)\n",
              "          (bn2): BatchNorm2d(240, eps=0.001, momentum=0.1, affine=True, track_running_stats=True)\n",
              "          (act2): ReLU6(inplace=True)\n",
              "          (se): Identity()\n",
              "          (conv_pwl): Conv2d(240, 80, kernel_size=(1, 1), stride=(1, 1), bias=False)\n",
              "          (bn3): BatchNorm2d(80, eps=0.001, momentum=0.1, affine=True, track_running_stats=True)\n",
              "        )\n",
              "        (1): InvertedResidual(\n",
              "          (conv_pw): Conv2d(80, 480, kernel_size=(1, 1), stride=(1, 1), bias=False)\n",
              "          (bn1): BatchNorm2d(480, eps=0.001, momentum=0.1, affine=True, track_running_stats=True)\n",
              "          (act1): ReLU6(inplace=True)\n",
              "          (conv_dw): Conv2d(480, 480, kernel_size=(3, 3), stride=(1, 1), padding=(1, 1), groups=480, bias=False)\n",
              "          (bn2): BatchNorm2d(480, eps=0.001, momentum=0.1, affine=True, track_running_stats=True)\n",
              "          (act2): ReLU6(inplace=True)\n",
              "          (se): Identity()\n",
              "          (conv_pwl): Conv2d(480, 80, kernel_size=(1, 1), stride=(1, 1), bias=False)\n",
              "          (bn3): BatchNorm2d(80, eps=0.001, momentum=0.1, affine=True, track_running_stats=True)\n",
              "        )\n",
              "        (2): InvertedResidual(\n",
              "          (conv_pw): Conv2d(80, 480, kernel_size=(1, 1), stride=(1, 1), bias=False)\n",
              "          (bn1): BatchNorm2d(480, eps=0.001, momentum=0.1, affine=True, track_running_stats=True)\n",
              "          (act1): ReLU6(inplace=True)\n",
              "          (conv_dw): Conv2d(480, 480, kernel_size=(3, 3), stride=(1, 1), padding=(1, 1), groups=480, bias=False)\n",
              "          (bn2): BatchNorm2d(480, eps=0.001, momentum=0.1, affine=True, track_running_stats=True)\n",
              "          (act2): ReLU6(inplace=True)\n",
              "          (se): Identity()\n",
              "          (conv_pwl): Conv2d(480, 80, kernel_size=(1, 1), stride=(1, 1), bias=False)\n",
              "          (bn3): BatchNorm2d(80, eps=0.001, momentum=0.1, affine=True, track_running_stats=True)\n",
              "        )\n",
              "      )\n",
              "      (1): Sequential(\n",
              "        (0): InvertedResidual(\n",
              "          (conv_pw): Conv2d(80, 480, kernel_size=(1, 1), stride=(1, 1), bias=False)\n",
              "          (bn1): BatchNorm2d(480, eps=0.001, momentum=0.1, affine=True, track_running_stats=True)\n",
              "          (act1): ReLU6(inplace=True)\n",
              "          (conv_dw): Conv2d(480, 480, kernel_size=(5, 5), stride=(1, 1), padding=(2, 2), groups=480, bias=False)\n",
              "          (bn2): BatchNorm2d(480, eps=0.001, momentum=0.1, affine=True, track_running_stats=True)\n",
              "          (act2): ReLU6(inplace=True)\n",
              "          (se): Identity()\n",
              "          (conv_pwl): Conv2d(480, 112, kernel_size=(1, 1), stride=(1, 1), bias=False)\n",
              "          (bn3): BatchNorm2d(112, eps=0.001, momentum=0.1, affine=True, track_running_stats=True)\n",
              "        )\n",
              "        (1): InvertedResidual(\n",
              "          (conv_pw): Conv2d(112, 672, kernel_size=(1, 1), stride=(1, 1), bias=False)\n",
              "          (bn1): BatchNorm2d(672, eps=0.001, momentum=0.1, affine=True, track_running_stats=True)\n",
              "          (act1): ReLU6(inplace=True)\n",
              "          (conv_dw): Conv2d(672, 672, kernel_size=(5, 5), stride=(1, 1), padding=(2, 2), groups=672, bias=False)\n",
              "          (bn2): BatchNorm2d(672, eps=0.001, momentum=0.1, affine=True, track_running_stats=True)\n",
              "          (act2): ReLU6(inplace=True)\n",
              "          (se): Identity()\n",
              "          (conv_pwl): Conv2d(672, 112, kernel_size=(1, 1), stride=(1, 1), bias=False)\n",
              "          (bn3): BatchNorm2d(112, eps=0.001, momentum=0.1, affine=True, track_running_stats=True)\n",
              "        )\n",
              "        (2): InvertedResidual(\n",
              "          (conv_pw): Conv2d(112, 672, kernel_size=(1, 1), stride=(1, 1), bias=False)\n",
              "          (bn1): BatchNorm2d(672, eps=0.001, momentum=0.1, affine=True, track_running_stats=True)\n",
              "          (act1): ReLU6(inplace=True)\n",
              "          (conv_dw): Conv2d(672, 672, kernel_size=(5, 5), stride=(1, 1), padding=(2, 2), groups=672, bias=False)\n",
              "          (bn2): BatchNorm2d(672, eps=0.001, momentum=0.1, affine=True, track_running_stats=True)\n",
              "          (act2): ReLU6(inplace=True)\n",
              "          (se): Identity()\n",
              "          (conv_pwl): Conv2d(672, 112, kernel_size=(1, 1), stride=(1, 1), bias=False)\n",
              "          (bn3): BatchNorm2d(112, eps=0.001, momentum=0.1, affine=True, track_running_stats=True)\n",
              "        )\n",
              "      )\n",
              "    )\n",
              "    (layer3): Sequential(\n",
              "      (0): Sequential(\n",
              "        (0): InvertedResidual(\n",
              "          (conv_pw): Conv2d(112, 672, kernel_size=(1, 1), stride=(1, 1), bias=False)\n",
              "          (bn1): BatchNorm2d(672, eps=0.001, momentum=0.1, affine=True, track_running_stats=True)\n",
              "          (act1): ReLU6(inplace=True)\n",
              "          (conv_dw): Conv2dSame(672, 672, kernel_size=(5, 5), stride=(2, 2), groups=672, bias=False)\n",
              "          (bn2): BatchNorm2d(672, eps=0.001, momentum=0.1, affine=True, track_running_stats=True)\n",
              "          (act2): ReLU6(inplace=True)\n",
              "          (se): Identity()\n",
              "          (conv_pwl): Conv2d(672, 192, kernel_size=(1, 1), stride=(1, 1), bias=False)\n",
              "          (bn3): BatchNorm2d(192, eps=0.001, momentum=0.1, affine=True, track_running_stats=True)\n",
              "        )\n",
              "        (1): InvertedResidual(\n",
              "          (conv_pw): Conv2d(192, 1152, kernel_size=(1, 1), stride=(1, 1), bias=False)\n",
              "          (bn1): BatchNorm2d(1152, eps=0.001, momentum=0.1, affine=True, track_running_stats=True)\n",
              "          (act1): ReLU6(inplace=True)\n",
              "          (conv_dw): Conv2d(1152, 1152, kernel_size=(5, 5), stride=(1, 1), padding=(2, 2), groups=1152, bias=False)\n",
              "          (bn2): BatchNorm2d(1152, eps=0.001, momentum=0.1, affine=True, track_running_stats=True)\n",
              "          (act2): ReLU6(inplace=True)\n",
              "          (se): Identity()\n",
              "          (conv_pwl): Conv2d(1152, 192, kernel_size=(1, 1), stride=(1, 1), bias=False)\n",
              "          (bn3): BatchNorm2d(192, eps=0.001, momentum=0.1, affine=True, track_running_stats=True)\n",
              "        )\n",
              "        (2): InvertedResidual(\n",
              "          (conv_pw): Conv2d(192, 1152, kernel_size=(1, 1), stride=(1, 1), bias=False)\n",
              "          (bn1): BatchNorm2d(1152, eps=0.001, momentum=0.1, affine=True, track_running_stats=True)\n",
              "          (act1): ReLU6(inplace=True)\n",
              "          (conv_dw): Conv2d(1152, 1152, kernel_size=(5, 5), stride=(1, 1), padding=(2, 2), groups=1152, bias=False)\n",
              "          (bn2): BatchNorm2d(1152, eps=0.001, momentum=0.1, affine=True, track_running_stats=True)\n",
              "          (act2): ReLU6(inplace=True)\n",
              "          (se): Identity()\n",
              "          (conv_pwl): Conv2d(1152, 192, kernel_size=(1, 1), stride=(1, 1), bias=False)\n",
              "          (bn3): BatchNorm2d(192, eps=0.001, momentum=0.1, affine=True, track_running_stats=True)\n",
              "        )\n",
              "        (3): InvertedResidual(\n",
              "          (conv_pw): Conv2d(192, 1152, kernel_size=(1, 1), stride=(1, 1), bias=False)\n",
              "          (bn1): BatchNorm2d(1152, eps=0.001, momentum=0.1, affine=True, track_running_stats=True)\n",
              "          (act1): ReLU6(inplace=True)\n",
              "          (conv_dw): Conv2d(1152, 1152, kernel_size=(5, 5), stride=(1, 1), padding=(2, 2), groups=1152, bias=False)\n",
              "          (bn2): BatchNorm2d(1152, eps=0.001, momentum=0.1, affine=True, track_running_stats=True)\n",
              "          (act2): ReLU6(inplace=True)\n",
              "          (se): Identity()\n",
              "          (conv_pwl): Conv2d(1152, 192, kernel_size=(1, 1), stride=(1, 1), bias=False)\n",
              "          (bn3): BatchNorm2d(192, eps=0.001, momentum=0.1, affine=True, track_running_stats=True)\n",
              "        )\n",
              "      )\n",
              "      (1): Sequential(\n",
              "        (0): InvertedResidual(\n",
              "          (conv_pw): Conv2d(192, 1152, kernel_size=(1, 1), stride=(1, 1), bias=False)\n",
              "          (bn1): BatchNorm2d(1152, eps=0.001, momentum=0.1, affine=True, track_running_stats=True)\n",
              "          (act1): ReLU6(inplace=True)\n",
              "          (conv_dw): Conv2d(1152, 1152, kernel_size=(3, 3), stride=(1, 1), padding=(1, 1), groups=1152, bias=False)\n",
              "          (bn2): BatchNorm2d(1152, eps=0.001, momentum=0.1, affine=True, track_running_stats=True)\n",
              "          (act2): ReLU6(inplace=True)\n",
              "          (se): Identity()\n",
              "          (conv_pwl): Conv2d(1152, 320, kernel_size=(1, 1), stride=(1, 1), bias=False)\n",
              "          (bn3): BatchNorm2d(320, eps=0.001, momentum=0.1, affine=True, track_running_stats=True)\n",
              "        )\n",
              "      )\n",
              "    )\n",
              "  )\n",
              "  (scratch): Module(\n",
              "    (layer0_ccm): Conv2d(24, 64, kernel_size=(1, 1), stride=(1, 1))\n",
              "    (layer1_ccm): Conv2d(40, 128, kernel_size=(1, 1), stride=(1, 1))\n",
              "    (layer2_ccm): Conv2d(112, 256, kernel_size=(1, 1), stride=(1, 1))\n",
              "    (layer3_ccm): Conv2d(320, 512, kernel_size=(1, 1), stride=(1, 1))\n",
              "    (layer3_csm): FeatureFusionBlock(\n",
              "      (out_conv): Conv2d(512, 256, kernel_size=(1, 1), stride=(1, 1))\n",
              "      (skip_add): FloatFunctional(\n",
              "        (activation_post_process): Identity()\n",
              "      )\n",
              "    )\n",
              "    (layer2_csm): FeatureFusionBlock(\n",
              "      (out_conv): Conv2d(256, 128, kernel_size=(1, 1), stride=(1, 1))\n",
              "      (skip_add): FloatFunctional(\n",
              "        (activation_post_process): Identity()\n",
              "      )\n",
              "    )\n",
              "    (layer1_csm): FeatureFusionBlock(\n",
              "      (out_conv): Conv2d(128, 64, kernel_size=(1, 1), stride=(1, 1))\n",
              "      (skip_add): FloatFunctional(\n",
              "        (activation_post_process): Identity()\n",
              "      )\n",
              "    )\n",
              "    (layer0_csm): FeatureFusionBlock(\n",
              "      (out_conv): Conv2d(64, 64, kernel_size=(1, 1), stride=(1, 1))\n",
              "      (skip_add): FloatFunctional(\n",
              "        (activation_post_process): Identity()\n",
              "      )\n",
              "    )\n",
              "  )\n",
              ")"
            ]
          },
          "metadata": {},
          "execution_count": 13
        }
      ]
    },
    {
      "cell_type": "code",
      "source": [
        "#@title прежде чем запускать эту ячейку, надо открыть слева панель файлов (нажать на иконку папки) и загрузить туда аудио файл. когда файл загрузится, надо нажать по нему правой кнопкой мыши, скопировать путь и вставить в строку ниже\n",
        "\n",
        "from lucidsonicdreams import LucidSonicDream\n",
        "\n",
        "music = '/content/drive/MyDrive/Retro-short.mp3' #@param {type:\"string\"}\n",
        "\n",
        "#@markdown ###затем в папке `lucid-sonid-dreams` нужно найти скачанную модель с расширением `.pkl` и так же скопировать ее путь в строку ниже\n",
        "model = '/content/drive/MyDrive/projected_gan/training-runs/00001-stylegan2-art_elks1024-gpus1-batch64-/network-snapshot.pkl' #@param {type:\"string\"}\n",
        "#@markdown ###а в следующей строке надо указать название будущего файла\n",
        "#@markdown ###*ВАЖНО: файл перезапишется если ему не поменять название при повторном запуске ячейки*\n",
        "final_video_name = 'LSD_animal.mp4' #@param {type:\"string\"}\n",
        "\n",
        "#@markdown ###следующие настройки для теста можно оставить как есть. подробный разбор всех параметров на английском можно найти в [оригинальном колабе](https://colab.research.google.com/drive/1Y5i50xSFIuN3V4Md8TB30_GOAtts7RQD#scrollTo=GuLiMg9CUXvG)\n",
        "\n",
        "L = LucidSonicDream(song = music, #mp3 here\n",
        "                    style = model) #pkl path here\n",
        "\n",
        "L.hallucinate(file_name = '/content/'+ final_video_name, #output path here\n",
        "              start = 0 #@param {type:\"integer\"}\n",
        "              ,\n",
        "              duration=50 #@param {type:\"integer\"}\n",
        "              ,\n",
        "              resolution = 1026 #@param {type:\"integer\"}\n",
        "              ,  \n",
        "              speed_fpm = 11 #@param {type:\"integer\"}\n",
        "              ,\n",
        "              fps = 30 #@param {type:\"integer\"}\n",
        "              ,\n",
        "              motion_react = 0.8 #@param {type: \"slider\", min: 0.0, max: 2.0, step: 0.05}\n",
        "              ,\n",
        "              motion_randomness = 0.5 #@param {type: \"slider\", min: 0.0, max: 1.0, step: 0.05}\n",
        "              ,\n",
        "              pulse_react = 1 #@param {type: \"slider\", min: 0.0, max: 2.0, step: 0.05}\n",
        "              ,\n",
        "              random_seed=6637 #@param {type:\"slider\", min:0, max:9999, step:1}\n",
        "              ,\n",
        "              ) "
      ],
      "metadata": {
        "id": "5c6NK18VAc5x",
        "colab": {
          "base_uri": "https://localhost:8080/",
          "height": 664
        },
        "outputId": "d7895b34-9924-4d1b-8c53-de98f3a908fa"
      },
      "execution_count": 6,
      "outputs": [
        {
          "output_type": "stream",
          "name": "stdout",
          "text": [
            "Preparing style...\n",
            "Loading networks from /content/drive/MyDrive/projected_gan/training-runs/00001-stylegan2-art_elks1024-gpus1-batch64-/network-snapshot.pkl...\n",
            "Preparing audio...\n",
            "Loading effects...\n",
            "Num classes of model:  0\n",
            "\n",
            "\n",
            "Doing math...\n",
            "\n",
            "\n",
            "\n",
            "Hallucinating... \n",
            "\n"
          ]
        },
        {
          "output_type": "stream",
          "name": "stderr",
          "text": [
            "Generating frames:   0%|          | 0/1567 [00:00<?, ?it/s]\n"
          ]
        },
        {
          "output_type": "error",
          "ename": "AssertionError",
          "evalue": "ignored",
          "traceback": [
            "\u001b[0;31m---------------------------------------------------------------------------\u001b[0m",
            "\u001b[0;31mAssertionError\u001b[0m                            Traceback (most recent call last)",
            "\u001b[0;32m<ipython-input-6-ebe9bc4508db>\u001b[0m in \u001b[0;36m<module>\u001b[0;34m()\u001b[0m\n\u001b[1;32m     33\u001b[0m               \u001b[0mpulse_react\u001b[0m \u001b[0;34m=\u001b[0m \u001b[0;36m1\u001b[0m \u001b[0;31m#@param {type: \"slider\", min: 0.0, max: 2.0, step: 0.05}\u001b[0m\u001b[0;34m\u001b[0m\u001b[0;34m\u001b[0m\u001b[0m\n\u001b[1;32m     34\u001b[0m               \u001b[0;34m,\u001b[0m\u001b[0;34m\u001b[0m\u001b[0;34m\u001b[0m\u001b[0m\n\u001b[0;32m---> 35\u001b[0;31m               \u001b[0mrandom_seed\u001b[0m\u001b[0;34m=\u001b[0m\u001b[0;36m6637\u001b[0m \u001b[0;31m#@param {type:\"slider\", min:0, max:9999, step:1}\u001b[0m\u001b[0;34m\u001b[0m\u001b[0;34m\u001b[0m\u001b[0m\n\u001b[0m\u001b[1;32m     36\u001b[0m               \u001b[0;34m,\u001b[0m\u001b[0;34m\u001b[0m\u001b[0;34m\u001b[0m\u001b[0m\n\u001b[1;32m     37\u001b[0m               ) \n",
            "\u001b[0;32m/content/lucid-sonic-dreams/lucidsonicdreams/main.py\u001b[0m in \u001b[0;36mhallucinate\u001b[0;34m(self, file_name, output_audio, fps, resolution, start, duration, save_frames, batch_size, speed_fpm, pulse_percussive, pulse_harmonic, pulse_react, motion_percussive, motion_harmonic, motion_react, motion_randomness, truncation, classes, dominant_classes_first, class_pitch_react, class_smooth_seconds, class_complexity, class_shuffle_seconds, class_shuffle_strength, contrast_strength, contrast_percussive, flash_strength, flash_percussive, custom_effects, truncation_psi, random_seed)\u001b[0m\n\u001b[1;32m    758\u001b[0m     \u001b[0;31m# Generate frames\u001b[0m\u001b[0;34m\u001b[0m\u001b[0;34m\u001b[0m\u001b[0;34m\u001b[0m\u001b[0m\n\u001b[1;32m    759\u001b[0m     \u001b[0mprint\u001b[0m\u001b[0;34m(\u001b[0m\u001b[0;34m'\\n\\nHallucinating... \\n'\u001b[0m\u001b[0;34m)\u001b[0m\u001b[0;34m\u001b[0m\u001b[0;34m\u001b[0m\u001b[0m\n\u001b[0;32m--> 760\u001b[0;31m     \u001b[0mself\u001b[0m\u001b[0;34m.\u001b[0m\u001b[0mgenerate_frames\u001b[0m\u001b[0;34m(\u001b[0m\u001b[0;34m)\u001b[0m\u001b[0;34m\u001b[0m\u001b[0;34m\u001b[0m\u001b[0m\n\u001b[0m\u001b[1;32m    761\u001b[0m \u001b[0;34m\u001b[0m\u001b[0m\n\u001b[1;32m    762\u001b[0m     \u001b[0;31m# Load output audio\u001b[0m\u001b[0;34m\u001b[0m\u001b[0;34m\u001b[0m\u001b[0;34m\u001b[0m\u001b[0m\n",
            "\u001b[0;32m/content/lucid-sonic-dreams/lucidsonicdreams/main.py\u001b[0m in \u001b[0;36mgenerate_frames\u001b[0;34m(self)\u001b[0m\n\u001b[1;32m    594\u001b[0m                 \u001b[0mnoise_batch\u001b[0m \u001b[0;34m=\u001b[0m \u001b[0mnoise_batch\u001b[0m\u001b[0;34m.\u001b[0m\u001b[0mto\u001b[0m\u001b[0;34m(\u001b[0m\u001b[0mdevice\u001b[0m\u001b[0;34m)\u001b[0m\u001b[0;34m\u001b[0m\u001b[0;34m\u001b[0m\u001b[0m\n\u001b[1;32m    595\u001b[0m                 \u001b[0;32mwith\u001b[0m \u001b[0mtorch\u001b[0m\u001b[0;34m.\u001b[0m\u001b[0mno_grad\u001b[0m\u001b[0;34m(\u001b[0m\u001b[0;34m)\u001b[0m\u001b[0;34m:\u001b[0m\u001b[0;34m\u001b[0m\u001b[0;34m\u001b[0m\u001b[0m\n\u001b[0;32m--> 596\u001b[0;31m                     \u001b[0mw_batch\u001b[0m \u001b[0;34m=\u001b[0m \u001b[0mself\u001b[0m\u001b[0;34m.\u001b[0m\u001b[0mGs\u001b[0m\u001b[0;34m.\u001b[0m\u001b[0mmapping\u001b[0m\u001b[0;34m(\u001b[0m\u001b[0mnoise_batch\u001b[0m\u001b[0;34m,\u001b[0m \u001b[0mclass_batch\u001b[0m\u001b[0;34m.\u001b[0m\u001b[0mto\u001b[0m\u001b[0;34m(\u001b[0m\u001b[0mdevice\u001b[0m\u001b[0;34m)\u001b[0m\u001b[0;34m,\u001b[0m \u001b[0mtruncation_psi\u001b[0m\u001b[0;34m=\u001b[0m\u001b[0mself\u001b[0m\u001b[0;34m.\u001b[0m\u001b[0mtruncation_psi\u001b[0m\u001b[0;34m)\u001b[0m\u001b[0;34m\u001b[0m\u001b[0;34m\u001b[0m\u001b[0m\n\u001b[0m\u001b[1;32m    597\u001b[0m                     \u001b[0mimage_batch\u001b[0m \u001b[0;34m=\u001b[0m \u001b[0mself\u001b[0m\u001b[0;34m.\u001b[0m\u001b[0mGs\u001b[0m\u001b[0;34m.\u001b[0m\u001b[0msynthesis\u001b[0m\u001b[0;34m(\u001b[0m\u001b[0mw_batch\u001b[0m\u001b[0;34m,\u001b[0m \u001b[0;34m**\u001b[0m\u001b[0mGs_syn_kwargs\u001b[0m\u001b[0;34m)\u001b[0m\u001b[0;34m\u001b[0m\u001b[0;34m\u001b[0m\u001b[0m\n\u001b[1;32m    598\u001b[0m                 \u001b[0mimage_batch\u001b[0m \u001b[0;34m=\u001b[0m \u001b[0;34m(\u001b[0m\u001b[0mimage_batch\u001b[0m\u001b[0;34m.\u001b[0m\u001b[0mpermute\u001b[0m\u001b[0;34m(\u001b[0m\u001b[0;36m0\u001b[0m\u001b[0;34m,\u001b[0m \u001b[0;36m2\u001b[0m\u001b[0;34m,\u001b[0m \u001b[0;36m3\u001b[0m\u001b[0;34m,\u001b[0m \u001b[0;36m1\u001b[0m\u001b[0;34m)\u001b[0m \u001b[0;34m*\u001b[0m \u001b[0;36m127.5\u001b[0m \u001b[0;34m+\u001b[0m \u001b[0;36m128\u001b[0m\u001b[0;34m)\u001b[0m\u001b[0;34m.\u001b[0m\u001b[0mclamp\u001b[0m\u001b[0;34m(\u001b[0m\u001b[0;36m0\u001b[0m\u001b[0;34m,\u001b[0m \u001b[0;36m255\u001b[0m\u001b[0;34m)\u001b[0m\u001b[0;34m.\u001b[0m\u001b[0mto\u001b[0m\u001b[0;34m(\u001b[0m\u001b[0mtorch\u001b[0m\u001b[0;34m.\u001b[0m\u001b[0muint8\u001b[0m\u001b[0;34m)\u001b[0m\u001b[0;34m.\u001b[0m\u001b[0mcpu\u001b[0m\u001b[0;34m(\u001b[0m\u001b[0;34m)\u001b[0m\u001b[0;34m.\u001b[0m\u001b[0mnumpy\u001b[0m\u001b[0;34m(\u001b[0m\u001b[0;34m)\u001b[0m\u001b[0;34m\u001b[0m\u001b[0;34m\u001b[0m\u001b[0m\n",
            "\u001b[0;32m/usr/local/lib/python3.7/dist-packages/torch/nn/modules/module.py\u001b[0m in \u001b[0;36m_call_impl\u001b[0;34m(self, *input, **kwargs)\u001b[0m\n\u001b[1;32m   1100\u001b[0m         if not (self._backward_hooks or self._forward_hooks or self._forward_pre_hooks or _global_backward_hooks\n\u001b[1;32m   1101\u001b[0m                 or _global_forward_hooks or _global_forward_pre_hooks):\n\u001b[0;32m-> 1102\u001b[0;31m             \u001b[0;32mreturn\u001b[0m \u001b[0mforward_call\u001b[0m\u001b[0;34m(\u001b[0m\u001b[0;34m*\u001b[0m\u001b[0minput\u001b[0m\u001b[0;34m,\u001b[0m \u001b[0;34m**\u001b[0m\u001b[0mkwargs\u001b[0m\u001b[0;34m)\u001b[0m\u001b[0;34m\u001b[0m\u001b[0;34m\u001b[0m\u001b[0m\n\u001b[0m\u001b[1;32m   1103\u001b[0m         \u001b[0;31m# Do not call functions when jit is used\u001b[0m\u001b[0;34m\u001b[0m\u001b[0;34m\u001b[0m\u001b[0;34m\u001b[0m\u001b[0m\n\u001b[1;32m   1104\u001b[0m         \u001b[0mfull_backward_hooks\u001b[0m\u001b[0;34m,\u001b[0m \u001b[0mnon_full_backward_hooks\u001b[0m \u001b[0;34m=\u001b[0m \u001b[0;34m[\u001b[0m\u001b[0;34m]\u001b[0m\u001b[0;34m,\u001b[0m \u001b[0;34m[\u001b[0m\u001b[0;34m]\u001b[0m\u001b[0;34m\u001b[0m\u001b[0;34m\u001b[0m\u001b[0m\n",
            "\u001b[0;32m<string>\u001b[0m in \u001b[0;36mforward\u001b[0;34m(self, z, c, truncation_psi, truncation_cutoff, update_emas)\u001b[0m\n",
            "\u001b[0;32m/content/lucid-sonic-dreams/stylegan2/torch_utils/misc.py\u001b[0m in \u001b[0;36massert_shape\u001b[0;34m(tensor, ref_shape)\u001b[0m\n\u001b[1;32m     93\u001b[0m                 \u001b[0msymbolic_assert\u001b[0m\u001b[0;34m(\u001b[0m\u001b[0mtorch\u001b[0m\u001b[0;34m.\u001b[0m\u001b[0mequal\u001b[0m\u001b[0;34m(\u001b[0m\u001b[0msize\u001b[0m\u001b[0;34m,\u001b[0m \u001b[0mtorch\u001b[0m\u001b[0;34m.\u001b[0m\u001b[0mas_tensor\u001b[0m\u001b[0;34m(\u001b[0m\u001b[0mref_size\u001b[0m\u001b[0;34m)\u001b[0m\u001b[0;34m)\u001b[0m\u001b[0;34m,\u001b[0m \u001b[0;34mf'Wrong size for dimension {idx}: expected {ref_size}'\u001b[0m\u001b[0;34m)\u001b[0m\u001b[0;34m\u001b[0m\u001b[0;34m\u001b[0m\u001b[0m\n\u001b[1;32m     94\u001b[0m         \u001b[0;32melif\u001b[0m \u001b[0msize\u001b[0m \u001b[0;34m!=\u001b[0m \u001b[0mref_size\u001b[0m\u001b[0;34m:\u001b[0m\u001b[0;34m\u001b[0m\u001b[0;34m\u001b[0m\u001b[0m\n\u001b[0;32m---> 95\u001b[0;31m             \u001b[0;32mraise\u001b[0m \u001b[0mAssertionError\u001b[0m\u001b[0;34m(\u001b[0m\u001b[0;34mf'Wrong size for dimension {idx}: got {size}, expected {ref_size}'\u001b[0m\u001b[0;34m)\u001b[0m\u001b[0;34m\u001b[0m\u001b[0;34m\u001b[0m\u001b[0m\n\u001b[0m\u001b[1;32m     96\u001b[0m \u001b[0;34m\u001b[0m\u001b[0m\n\u001b[1;32m     97\u001b[0m \u001b[0;31m#----------------------------------------------------------------------------\u001b[0m\u001b[0;34m\u001b[0m\u001b[0;34m\u001b[0m\u001b[0;34m\u001b[0m\u001b[0m\n",
            "\u001b[0;31mAssertionError\u001b[0m: Wrong size for dimension 1: got 512, expected 64"
          ]
        }
      ]
    },
    {
      "cell_type": "code",
      "source": [
        "!cp /content/LSD_animal.mp4 /content/drive/MyDrive/LSD_me2.mp4"
      ],
      "metadata": {
        "id": "-xXuTPAd9B2L"
      },
      "execution_count": null,
      "outputs": []
    },
    {
      "cell_type": "code",
      "source": [
        "from google.colab import drive\n",
        "drive.mount('/content/drive')"
      ],
      "metadata": {
        "colab": {
          "base_uri": "https://localhost:8080/"
        },
        "id": "grdC0u8fYn4K",
        "outputId": "867ce23b-5835-476f-ff9b-858043ee8021"
      },
      "execution_count": 3,
      "outputs": [
        {
          "output_type": "stream",
          "name": "stdout",
          "text": [
            "Mounted at /content/drive\n"
          ]
        }
      ]
    },
    {
      "cell_type": "markdown",
      "source": [
        ""
      ],
      "metadata": {
        "id": "CU-mGi2ZUSev"
      }
    },
    {
      "cell_type": "markdown",
      "source": [
        "##а если умеешь работать с кодом, все то же самое можно сделать в следующей ячейке"
      ],
      "metadata": {
        "id": "DcdaYmmIhbg6"
      }
    },
    {
      "cell_type": "code",
      "source": [
        "from lucidsonicdreams import LucidSonicDream\n",
        "\n",
        "L = LucidSonicDream(song = '/content/Leikeli47 - Money.mp3', #mp3 here\n",
        "                    style = '/content/lucid-sonic-dreams/stylegan3-t-afhqv2-512x512.pkl') #pkl path here\n",
        "\n",
        "L.hallucinate(file_name = '/content/basic-lsd.mp4', #output path here\n",
        "              start = 0,\n",
        "              duration=38,\n",
        "              resolution = 640,  \n",
        "              speed_fpm = 8,\n",
        "              fps = 30,\n",
        "              pulse_percussive = True,\n",
        "              pulse_harmonic= False,\n",
        "              pulse_react = 1.0,\n",
        "              motion_react = 0.8,\n",
        "              motion_randomness = 0.8,\n",
        "              motion_harmonic = True,\n",
        "              motion_percussive = False,\n",
        "              random_seed=100,\n",
        "              ) "
      ],
      "metadata": {
        "id": "dpCkEjC2hZ59"
      },
      "execution_count": null,
      "outputs": []
    }
  ]
}